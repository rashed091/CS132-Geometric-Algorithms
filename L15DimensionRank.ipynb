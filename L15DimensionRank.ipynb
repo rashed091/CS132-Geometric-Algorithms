{
 "cells": [
  {
   "cell_type": "code",
   "execution_count": 1,
   "metadata": {
    "hide_input": true,
    "internals": {},
    "slideshow": {
     "slide_type": "skip"
    },
    "tags": [
     "remove-cell"
    ]
   },
   "outputs": [
    {
     "ename": "ModuleNotFoundError",
     "evalue": "No module named 'qrcode'",
     "output_type": "error",
     "traceback": [
      "\u001b[0;31m---------------------------------------------------------------------------\u001b[0m",
      "\u001b[0;31mModuleNotFoundError\u001b[0m                       Traceback (most recent call last)",
      "\u001b[0;32m<ipython-input-1-c68e5df40aed>\u001b[0m in \u001b[0;36m<module>\u001b[0;34m\u001b[0m\n\u001b[1;32m     15\u001b[0m \u001b[0;32mimport\u001b[0m \u001b[0mpandas\u001b[0m \u001b[0;32mas\u001b[0m \u001b[0mpd\u001b[0m\u001b[0;34m\u001b[0m\u001b[0;34m\u001b[0m\u001b[0m\n\u001b[1;32m     16\u001b[0m \u001b[0;32mimport\u001b[0m \u001b[0mmatplotlib\u001b[0m\u001b[0;34m.\u001b[0m\u001b[0mpyplot\u001b[0m \u001b[0;32mas\u001b[0m \u001b[0mplt\u001b[0m\u001b[0;34m\u001b[0m\u001b[0;34m\u001b[0m\u001b[0m\n\u001b[0;32m---> 17\u001b[0;31m \u001b[0;32mimport\u001b[0m \u001b[0mlaUtilities\u001b[0m \u001b[0;32mas\u001b[0m \u001b[0mut\u001b[0m\u001b[0;34m\u001b[0m\u001b[0;34m\u001b[0m\u001b[0m\n\u001b[0m\u001b[1;32m     18\u001b[0m \u001b[0;32mimport\u001b[0m \u001b[0mslideUtilities\u001b[0m \u001b[0;32mas\u001b[0m \u001b[0msl\u001b[0m\u001b[0;34m\u001b[0m\u001b[0;34m\u001b[0m\u001b[0m\n\u001b[1;32m     19\u001b[0m \u001b[0;32mimport\u001b[0m \u001b[0mdemoUtilities\u001b[0m \u001b[0;32mas\u001b[0m \u001b[0mdm\u001b[0m\u001b[0;34m\u001b[0m\u001b[0;34m\u001b[0m\u001b[0m\n",
      "\u001b[0;32m~/Workspace/CS132-Geometric-Algorithms/laUtilities.py\u001b[0m in \u001b[0;36m<module>\u001b[0;34m\u001b[0m\n\u001b[1;32m      6\u001b[0m \u001b[0;32mimport\u001b[0m \u001b[0mitertools\u001b[0m\u001b[0;34m\u001b[0m\u001b[0;34m\u001b[0m\u001b[0m\n\u001b[1;32m      7\u001b[0m \u001b[0;32mimport\u001b[0m \u001b[0mjson\u001b[0m\u001b[0;34m\u001b[0m\u001b[0;34m\u001b[0m\u001b[0m\n\u001b[0;32m----> 8\u001b[0;31m \u001b[0;32mimport\u001b[0m \u001b[0mqrcode\u001b[0m\u001b[0;34m\u001b[0m\u001b[0;34m\u001b[0m\u001b[0m\n\u001b[0m\u001b[1;32m      9\u001b[0m \u001b[0;32mimport\u001b[0m \u001b[0mhashlib\u001b[0m\u001b[0;34m\u001b[0m\u001b[0;34m\u001b[0m\u001b[0m\n\u001b[1;32m     10\u001b[0m \u001b[0;34m\u001b[0m\u001b[0m\n",
      "\u001b[0;31mModuleNotFoundError\u001b[0m: No module named 'qrcode'"
     ]
    }
   ],
   "source": [
    "# for conversion to PDF use these settings\n",
    "# %matplotlib inline\n",
    "# qr_setting = 'url'\n",
    "# qrviz_setting = 'show'\n",
    "#\n",
    "# for lecture use notebook\n",
    "%matplotlib inline\n",
    "qr_setting = None\n",
    "qrviz_setting = 'save'\n",
    "#\n",
    "%config InlineBackend.figure_format='retina'\n",
    "# import libraries\n",
    "import numpy as np\n",
    "import matplotlib as mpf\n",
    "import pandas as pd\n",
    "import matplotlib.pyplot as plt\n",
    "import laUtilities as ut\n",
    "import slideUtilities as sl\n",
    "import demoUtilities as dm\n",
    "import pandas as pd\n",
    "from importlib import reload\n",
    "from datetime import datetime\n",
    "from IPython.display import Image\n",
    "from IPython.display import display_html\n",
    "from IPython.display import display\n",
    "from IPython.display import Math\n",
    "from IPython.display import Latex\n",
    "from IPython.display import HTML\n",
    "reload(sl)\n",
    "reload(ut);"
   ]
  },
  {
   "cell_type": "markdown",
   "metadata": {
    "internals": {
     "slide_type": "subslide"
    },
    "slideshow": {
     "slide_type": "slide"
    }
   },
   "source": [
    "# Dimension and Rank"
   ]
  },
  {
   "cell_type": "code",
   "execution_count": 2,
   "metadata": {
    "hide_input": true,
    "tags": [
     "remove-cell"
    ]
   },
   "outputs": [
    {
     "ename": "NameError",
     "evalue": "name 'Image' is not defined",
     "output_type": "error",
     "traceback": [
      "\u001b[0;31m---------------------------------------------------------------------------\u001b[0m",
      "\u001b[0;31mNameError\u001b[0m                                 Traceback (most recent call last)",
      "\u001b[0;32m<ipython-input-2-c4c30033fedd>\u001b[0m in \u001b[0;36m<module>\u001b[0;34m\u001b[0m\n\u001b[1;32m      1\u001b[0m \u001b[0;31m# Source: http://en.wikipedia.org/wiki/Ren%C3%A9_Descartes#/media/File:Frans_Hals_-_Portret_van_Ren%C3%A9_Descartes.jpg\u001b[0m\u001b[0;34m\u001b[0m\u001b[0;34m\u001b[0m\u001b[0;34m\u001b[0m\u001b[0m\n\u001b[1;32m      2\u001b[0m \u001b[0;31m# More background is at http://mathforum.org/cgraph/history/middleages.html\u001b[0m\u001b[0;34m\u001b[0m\u001b[0;34m\u001b[0m\u001b[0;34m\u001b[0m\u001b[0m\n\u001b[0;32m----> 3\u001b[0;31m \u001b[0mdisplay\u001b[0m\u001b[0;34m(\u001b[0m\u001b[0mImage\u001b[0m\u001b[0;34m(\u001b[0m\u001b[0;34m\"images/descartes.jpg\"\u001b[0m\u001b[0;34m,\u001b[0m \u001b[0mwidth\u001b[0m\u001b[0;34m=\u001b[0m\u001b[0;36m300\u001b[0m\u001b[0;34m)\u001b[0m\u001b[0;34m)\u001b[0m\u001b[0;34m\u001b[0m\u001b[0;34m\u001b[0m\u001b[0m\n\u001b[0m",
      "\u001b[0;31mNameError\u001b[0m: name 'Image' is not defined"
     ]
    }
   ],
   "source": [
    "# Source: http://en.wikipedia.org/wiki/Ren%C3%A9_Descartes#/media/File:Frans_Hals_-_Portret_van_Ren%C3%A9_Descartes.jpg\n",
    "# More background is at http://mathforum.org/cgraph/history/middleages.html\n",
    "display(Image(\"images/descartes.jpg\", width=300))"
   ]
  },
  {
   "cell_type": "code",
   "execution_count": 3,
   "metadata": {
    "hide_input": true,
    "slideshow": {
     "slide_type": "slide"
    },
    "tags": [
     "remove-input"
    ]
   },
   "outputs": [
    {
     "ename": "NameError",
     "evalue": "name 'Image' is not defined",
     "output_type": "error",
     "traceback": [
      "\u001b[0;31m---------------------------------------------------------------------------\u001b[0m",
      "\u001b[0;31mNameError\u001b[0m                                 Traceback (most recent call last)",
      "\u001b[0;32m<ipython-input-3-c4c30033fedd>\u001b[0m in \u001b[0;36m<module>\u001b[0;34m\u001b[0m\n\u001b[1;32m      1\u001b[0m \u001b[0;31m# Source: http://en.wikipedia.org/wiki/Ren%C3%A9_Descartes#/media/File:Frans_Hals_-_Portret_van_Ren%C3%A9_Descartes.jpg\u001b[0m\u001b[0;34m\u001b[0m\u001b[0;34m\u001b[0m\u001b[0;34m\u001b[0m\u001b[0m\n\u001b[1;32m      2\u001b[0m \u001b[0;31m# More background is at http://mathforum.org/cgraph/history/middleages.html\u001b[0m\u001b[0;34m\u001b[0m\u001b[0;34m\u001b[0m\u001b[0;34m\u001b[0m\u001b[0m\n\u001b[0;32m----> 3\u001b[0;31m \u001b[0mdisplay\u001b[0m\u001b[0;34m(\u001b[0m\u001b[0mImage\u001b[0m\u001b[0;34m(\u001b[0m\u001b[0;34m\"images/descartes.jpg\"\u001b[0m\u001b[0;34m,\u001b[0m \u001b[0mwidth\u001b[0m\u001b[0;34m=\u001b[0m\u001b[0;36m300\u001b[0m\u001b[0;34m)\u001b[0m\u001b[0;34m)\u001b[0m\u001b[0;34m\u001b[0m\u001b[0;34m\u001b[0m\u001b[0m\n\u001b[0m",
      "\u001b[0;31mNameError\u001b[0m: name 'Image' is not defined"
     ]
    }
   ],
   "source": [
    "# Source: http://en.wikipedia.org/wiki/Ren%C3%A9_Descartes#/media/File:Frans_Hals_-_Portret_van_Ren%C3%A9_Descartes.jpg\n",
    "# More background is at http://mathforum.org/cgraph/history/middleages.html\n",
    "display(Image(\"images/descartes.jpg\", width=300))"
   ]
  },
  {
   "cell_type": "code",
   "execution_count": 4,
   "metadata": {
    "hide_input": true,
    "tags": [
     "remove-input"
    ]
   },
   "outputs": [
    {
     "ename": "NameError",
     "evalue": "name 'HTML' is not defined",
     "output_type": "error",
     "traceback": [
      "\u001b[0;31m---------------------------------------------------------------------------\u001b[0m",
      "\u001b[0;31mNameError\u001b[0m                                 Traceback (most recent call last)",
      "\u001b[0;32m<ipython-input-4-338c08481444>\u001b[0m in \u001b[0;36m<module>\u001b[0;34m\u001b[0m\n\u001b[0;32m----> 1\u001b[0;31m \u001b[0mHTML\u001b[0m\u001b[0;34m(\u001b[0m\u001b[0;34mu'<a href=\"http://commons.wikimedia.org/wiki/File:Frans_Hals_-_Portret_van_Ren%C3%A9_Descartes.jpg#/media/File:Frans_Hals_-_Portret_van_Ren%C3%A9_Descartes.jpg\">\"Frans Hals - Portret van René Descartes</a>\" by After <a href=\"//en.wikipedia.org/wiki/Frans_Hals\" class=\"extiw\" title=\"en:Frans Hals\">Frans Hals</a> (1582/1583–1666) - André Hatala [e.a.] (1997) De eeuw van Rembrandt, Bruxelles: Crédit communal de Belgique, <a href=\"//commons.wikimedia.org/wiki/Special:BookSources/2908388324\" class=\"internal mw-magiclink-isbn\">ISBN 2-908388-32-4</a>.. Licensed under Public Domain via <a href=\"//commons.wikimedia.org/wiki/\">Wikimedia Commons</a>.'\u001b[0m\u001b[0;34m)\u001b[0m\u001b[0;34m\u001b[0m\u001b[0;34m\u001b[0m\u001b[0m\n\u001b[0m",
      "\u001b[0;31mNameError\u001b[0m: name 'HTML' is not defined"
     ]
    }
   ],
   "source": [
    "HTML(u'<a href=\"http://commons.wikimedia.org/wiki/File:Frans_Hals_-_Portret_van_Ren%C3%A9_Descartes.jpg#/media/File:Frans_Hals_-_Portret_van_Ren%C3%A9_Descartes.jpg\">\"Frans Hals - Portret van René Descartes</a>\" by After <a href=\"//en.wikipedia.org/wiki/Frans_Hals\" class=\"extiw\" title=\"en:Frans Hals\">Frans Hals</a> (1582/1583–1666) - André Hatala [e.a.] (1997) De eeuw van Rembrandt, Bruxelles: Crédit communal de Belgique, <a href=\"//commons.wikimedia.org/wiki/Special:BookSources/2908388324\" class=\"internal mw-magiclink-isbn\">ISBN 2-908388-32-4</a>.. Licensed under Public Domain via <a href=\"//commons.wikimedia.org/wiki/\">Wikimedia Commons</a>.')"
   ]
  },
  {
   "cell_type": "markdown",
   "metadata": {},
   "source": [
    "Rene Descartes (1596-1650) was a French philosopher, mathematician, and writer.  He is often credited with developing the idea of a coordinate system, although versions of coordinate systems had been seen in Greek mathematics since 300BC.  \n",
    "\n",
    "As a young man, Descartes had health problems and generally stayed in bed late each day.  The story goes that one day as he lay in bed, he observed a fly on the ceiling of his room.  He thought about how to describe the movement of the fly, and realized that he could completely describe it by measuring its distance from the walls of the room.  This gave birth to the so-called _Cartesian coordinate system_.\n",
    "\n",
    "What is certain is that Descartes championed the idea that geometric problems could be cast into algebraic form and solved in that fashion.  This was an important shift in thinking; the mathematical tradition begun by the Greeks held that geometry, as practiced by Euclid with compass and straightedge, was a more fundamental approach.  For example, the problem of copying a triangle was one that the Greeks had studied and solved using non-numeric methods.  Descartes argued that a triangle could be copied exactly by simply knowing the coordinates of its vertices.\n",
    "\n",
    "The study of curves and shapes in algebraic form laid important groundwork for calculus, and Newton was strongly influenced by Descartes' ideas."
   ]
  },
  {
   "cell_type": "markdown",
   "metadata": {
    "slideshow": {
     "slide_type": "slide"
    }
   },
   "source": [
    "Why is a coordinate system so useful?\n",
    "\n",
    "The value of a coordinate system is that it gives a _unique name_ to each point in the plane (or in any vector space).\n"
   ]
  },
  {
   "cell_type": "markdown",
   "metadata": {
    "slideshow": {
     "slide_type": "fragment"
    }
   },
   "source": [
    "Now, here is a key question:  what if the walls of Descartes' room had __not been square__?\n",
    "\n",
    "... in other words, the corners were not perpendicular?   \n",
    "\n",
    "Would his system still have worked?   Would he still have been able to __precisely specify__ the path of the fly?\n",
    "\n",
    "We'll explore this question today and use it to further deepen our understanding of linear operators."
   ]
  },
  {
   "cell_type": "markdown",
   "metadata": {
    "slideshow": {
     "slide_type": "slide"
    }
   },
   "source": [
    "## Coordinate Systems"
   ]
  },
  {
   "cell_type": "markdown",
   "metadata": {
    "slideshow": {
     "slide_type": "fragment"
    }
   },
   "source": [
    "In the last lecture we developed the idea of a _basis_ -- a minimal spanning set for a subspace $H$."
   ]
  },
  {
   "cell_type": "markdown",
   "metadata": {
    "slideshow": {
     "slide_type": "fragment"
    }
   },
   "source": [
    "Today we'll emphasize this aspect: a key value of a basis is that\n",
    "\n",
    "<center><font color = \"blue\">a basis provides a <b>coordinate system</b> for $H$.</font></center>"
   ]
  },
  {
   "cell_type": "markdown",
   "metadata": {
    "slideshow": {
     "slide_type": "fragment"
    }
   },
   "source": [
    "In other words: if we are given a basis for $H$, then __each vector in $H$ can be written in only one way__ as a linear combination of the basis vectors."
   ]
  },
  {
   "cell_type": "markdown",
   "metadata": {
    "slideshow": {
     "slide_type": "fragment"
    }
   },
   "source": [
    "Let's see this convincingly.\n",
    "\n",
    "Suppose $\\mathcal{B}\\ = \\{\\mathbf{b}_1,\\dots,\\mathbf{b}_p\\}$ is a basis for $H,$ and suppose a vector $\\mathbf{x}$ in $H$ can be generated in two ways, say\n",
    "\n",
    "$$\\mathbf{x} = c_1\\mathbf{b}_1+\\cdots+c_p\\mathbf{b}_p$$\n",
    "\n",
    "<center>and</center>\n",
    "\n",
    "$$\\mathbf{x} = d_1\\mathbf{b}_1+\\cdots+d_p\\mathbf{b}_p.$$"
   ]
  },
  {
   "cell_type": "markdown",
   "metadata": {
    "slideshow": {
     "slide_type": "fragment"
    }
   },
   "source": [
    "Then, subtracting gives\n",
    "\n",
    "$${\\bf 0} = \\mathbf{x} - \\mathbf{x} = (c_1-d_1)\\mathbf{b}_1+\\cdots+(c_p-d_p)\\mathbf{b}_p.$$"
   ]
  },
  {
   "cell_type": "markdown",
   "metadata": {
    "slideshow": {
     "slide_type": "fragment"
    }
   },
   "source": [
    "Now, since $\\mathcal{B}$ is a basis, we know that the vectors $\\{\\mathbf{b}_1\\dots\\mathbf{b}_p\\}$ are linearly independent."
   ]
  },
  {
   "cell_type": "markdown",
   "metadata": {
    "slideshow": {
     "slide_type": "fragment"
    }
   },
   "source": [
    "So by the definition of linear independence, the weights in the above expression must all be zero.  \n",
    "\n",
    "That is, $c_j = d_j$ for all $j$. \n",
    "\n",
    "... which shows that the two representations must be the same."
   ]
  },
  {
   "cell_type": "markdown",
   "metadata": {
    "slideshow": {
     "slide_type": "slide"
    }
   },
   "source": [
    "__Definition.__  Suppose the set $\\mathcal{B}\\ = \\{\\mathbf{b}_1,\\dots,\\mathbf{b}_p\\}$ is a basis for the subspace $H$.  \n",
    "\n",
    "For each $\\mathbf{x}$ in $H$, the __coordinates of $\\mathbf{x}$ relative to the basis $\\mathcal{B}$__ are the weights $c_1,\\dots,c_p$ such that $\\mathbf{x} = c_1\\mathbf{b}_1+\\cdots+c_p\\mathbf{b}_p$. "
   ]
  },
  {
   "cell_type": "markdown",
   "metadata": {
    "slideshow": {
     "slide_type": "fragment"
    }
   },
   "source": [
    "The vector in $\\mathbb{R}^p$\n",
    "\n",
    "$$[\\mathbf{x}]_\\mathcal{B} = \\begin{bmatrix}c_1\\\\\\vdots\\\\c_p\\end{bmatrix}$$\n",
    "\n",
    "is called the __coordinate vector of $\\mathbf{x}$ (relative to $\\mathcal{B}$)__ or the __$\\mathcal{B}$-coordinate vector of $\\mathbf{x}$.__"
   ]
  },
  {
   "cell_type": "markdown",
   "metadata": {
    "slideshow": {
     "slide_type": "fragment"
    }
   },
   "source": [
    "Here is an example in $\\mathbb{R}^2$:\n",
    "\n",
    "Let's look at the point $\\begin{bmatrix}1\\\\6\\end{bmatrix}$."
   ]
  },
  {
   "cell_type": "code",
   "execution_count": 5,
   "metadata": {
    "hide_input": true,
    "slideshow": {
     "slide_type": "-"
    },
    "tags": [
     "remove-input"
    ]
   },
   "outputs": [
    {
     "ename": "NameError",
     "evalue": "name 'ut' is not defined",
     "output_type": "error",
     "traceback": [
      "\u001b[0;31m---------------------------------------------------------------------------\u001b[0m",
      "\u001b[0;31mNameError\u001b[0m                                 Traceback (most recent call last)",
      "\u001b[0;32m<ipython-input-5-423a548ca574>\u001b[0m in \u001b[0;36m<module>\u001b[0;34m\u001b[0m\n\u001b[1;32m      9\u001b[0m \u001b[0mb1\u001b[0m \u001b[0;34m=\u001b[0m \u001b[0;34m[\u001b[0m\u001b[0;36m1\u001b[0m\u001b[0;34m,\u001b[0m \u001b[0;36m2\u001b[0m\u001b[0;34m]\u001b[0m\u001b[0;34m\u001b[0m\u001b[0;34m\u001b[0m\u001b[0m\n\u001b[1;32m     10\u001b[0m \u001b[0;34m\u001b[0m\u001b[0m\n\u001b[0;32m---> 11\u001b[0;31m \u001b[0mfig\u001b[0m \u001b[0;34m=\u001b[0m \u001b[0mut\u001b[0m\u001b[0;34m.\u001b[0m\u001b[0mtwo_d_figure\u001b[0m\u001b[0;34m(\u001b[0m\u001b[0;34m'Dummylabel'\u001b[0m\u001b[0;34m,\u001b[0m \u001b[0mxmin\u001b[0m \u001b[0;34m=\u001b[0m \u001b[0mxmin\u001b[0m\u001b[0;34m,\u001b[0m \u001b[0mxmax\u001b[0m \u001b[0;34m=\u001b[0m \u001b[0mxmax\u001b[0m\u001b[0;34m,\u001b[0m \u001b[0mymin\u001b[0m \u001b[0;34m=\u001b[0m \u001b[0mymin\u001b[0m\u001b[0;34m,\u001b[0m \u001b[0mymax\u001b[0m \u001b[0;34m=\u001b[0m \u001b[0mymax\u001b[0m\u001b[0;34m,\u001b[0m \u001b[0msize\u001b[0m\u001b[0;34m=\u001b[0m\u001b[0;34m(\u001b[0m\u001b[0;36m6\u001b[0m\u001b[0;34m,\u001b[0m\u001b[0;36m5\u001b[0m\u001b[0;34m)\u001b[0m\u001b[0;34m)\u001b[0m\u001b[0;34m\u001b[0m\u001b[0;34m\u001b[0m\u001b[0m\n\u001b[0m\u001b[1;32m     12\u001b[0m \u001b[0;32mfor\u001b[0m \u001b[0mx\u001b[0m \u001b[0;32min\u001b[0m \u001b[0mnp\u001b[0m\u001b[0;34m.\u001b[0m\u001b[0mlinspace\u001b[0m\u001b[0;34m(\u001b[0m\u001b[0mymin\u001b[0m\u001b[0;34m,\u001b[0m \u001b[0mymax\u001b[0m\u001b[0;34m,\u001b[0m \u001b[0mint\u001b[0m\u001b[0;34m(\u001b[0m\u001b[0mymax\u001b[0m\u001b[0;34m-\u001b[0m\u001b[0mymin\u001b[0m\u001b[0;34m+\u001b[0m\u001b[0;36m1\u001b[0m\u001b[0;34m)\u001b[0m\u001b[0;34m)\u001b[0m\u001b[0;34m:\u001b[0m\u001b[0;34m\u001b[0m\u001b[0;34m\u001b[0m\u001b[0m\n\u001b[1;32m     13\u001b[0m     \u001b[0mfig\u001b[0m\u001b[0;34m.\u001b[0m\u001b[0mplotLinEqn\u001b[0m\u001b[0;34m(\u001b[0m\u001b[0;36m0.\u001b[0m\u001b[0;34m,\u001b[0m \u001b[0;36m1.\u001b[0m\u001b[0;34m,\u001b[0m \u001b[0mx\u001b[0m\u001b[0;34m,\u001b[0m \u001b[0malpha\u001b[0m\u001b[0;34m=\u001b[0m\u001b[0;36m0.3\u001b[0m\u001b[0;34m)\u001b[0m\u001b[0;34m\u001b[0m\u001b[0;34m\u001b[0m\u001b[0m\n",
      "\u001b[0;31mNameError\u001b[0m: name 'ut' is not defined"
     ]
    }
   ],
   "source": [
    "import ipywidgets as widgets\n",
    "# idea: put a simple button here that switches between the two plots\n",
    "xmin = -6.0 \n",
    "xmax = 6.0 \n",
    "ymin = -2.0\n",
    "ymax = 8.0\n",
    "\n",
    "b0 = [1, 0]\n",
    "b1 = [1, 2]\n",
    "\n",
    "fig = ut.two_d_figure('Dummylabel', xmin = xmin, xmax = xmax, ymin = ymin, ymax = ymax, size=(6,5))\n",
    "for x in np.linspace(ymin, ymax, int(ymax-ymin+1)):\n",
    "    fig.plotLinEqn(0., 1., x, alpha=0.3)\n",
    "for y in np.linspace(xmin, xmax, int(xmax-xmin+1)):\n",
    "    fig.plotLinEqn(1., 0., y, alpha=0.3)\n",
    "fig.plotLinEqn(1., 0, 0, color = 'k')\n",
    "fig.plotLinEqn(0, 1, 0, color = 'k')\n",
    "fig.plotPoint(0, 0, 'k')\n",
    "fig.ax.text(0+.1, 0-.1, r'$\\bf 0$', size = 12, horizontalalignment='left', verticalalignment='top')\n",
    "fig.plotPoint(1, 0, 'r')\n",
    "fig.ax.text(1+.1, 0-.1, r'${\\bf e}_0$', size = 12, horizontalalignment='left', verticalalignment='top')\n",
    "fig.plotPoint(0, 1, 'r')\n",
    "fig.ax.text(0+.1, 1-.1, r'${\\bf e}_1$', size = 12, horizontalalignment='left', verticalalignment='top')\n",
    "fig.plotPoint(b1[0], b1[1], 'g')\n",
    "fig.ax.text(b1[0]+.1, b1[1]-.1, r'${\\bf b}_1$', size = 12, horizontalalignment='left', verticalalignment='top')\n",
    "fig.plotPoint(1, 6, 'b')\n",
    "fig.ax.text(1+.1, 6-.1, r'${\\bf x}$', size = 12, horizontalalignment='left', verticalalignment='top')\n",
    "fig.ax.axis('off')\n",
    "fig.ax.set_title(r'Standard Basis.  $\\mathbf{x}$ = (1, 6)', size = 16)\n",
    "fig.fig.savefig('images/L15f1-standard.png')\n",
    "plt.close()\n",
    "\n",
    "fig = ut.two_d_figure('Dummylabel', xmin = xmin, xmax = xmax, ymin = ymin, ymax = ymax, size=(6,5))\n",
    "m = b1[1]/b1[0]\n",
    "upper_intercept = ymax - m * xmin\n",
    "upper_intercept = b1[1] * np.ceil(upper_intercept / b1[1])\n",
    "lower_intercept = ymin - m * xmax\n",
    "lower_intercept = b1[1] * np.floor(lower_intercept / b1[1])\n",
    "for yint in np.linspace(lower_intercept, upper_intercept, int((upper_intercept-lower_intercept)/b1[1])+1):\n",
    "    fig.plotLinEqn(-b1[1], b1[0], yint, color = 'g', alpha=0.3)\n",
    "for y in np.linspace(ymin, ymax, int(((ymax-ymin)/b1[1])+1)):\n",
    "    fig.plotLinEqn(0., 1., y, color = 'g', alpha=0.3)\n",
    "fig.plotLinEqn(b1[1], -b1[0], 0, color = 'k')\n",
    "fig.plotLinEqn(b0[1], -b0[0], 0, color = 'k')\n",
    "fig.plotPoint(0, 0, 'k')\n",
    "fig.ax.text(0+.1, 0-.1, r'$\\bf 0$', size = 12, horizontalalignment='left', verticalalignment='top')\n",
    "fig.plotPoint(1, 0, 'g')\n",
    "fig.ax.text(1+.1, 0-.1, r'${\\bf b}_0$', size = 12, horizontalalignment='left', verticalalignment='top')\n",
    "fig.plotPoint(b1[0], b1[1], 'g')\n",
    "fig.ax.text(b1[0]+.1, b1[1]-.1, r'${\\bf b}_1$', size = 12, horizontalalignment='left', verticalalignment='top')\n",
    "fig.plotPoint(1, 6, 'b')\n",
    "fig.ax.text(1+.1, 6-.1, r'${\\bf x}$', size = 12, horizontalalignment='left', verticalalignment='top')\n",
    "fig.ax.axis('off')\n",
    "fig.ax.set_title('B-Basis. $[\\mathbf{x}]_\\mathcal{B}$ = (-2, 3)', size = 16)\n",
    "fig.fig.savefig('images/L15f1-B-basis.png')\n",
    "plt.close()\n",
    "#\n",
    "# create widget to alternate views of images\n",
    "# labels on tab do not work, seems like a bug in ipywidgets < 8.0.0\n",
    "tab_nest = widgets.Tab()\n",
    "z = widgets.Image().from_file('images/L15f1-standard.png')\n",
    "w = widgets.Image().from_file('images/L15f1-B-basis.png')\n",
    "tab_nest.children = [z, w]\n",
    "tab_nest.titles = ['Standard', 'B-Basis']\n",
    "display(tab_nest)"
   ]
  },
  {
   "cell_type": "markdown",
   "metadata": {
    "slideshow": {
     "slide_type": "fragment"
    }
   },
   "source": [
    "Now we'll use a new basis:\n",
    "\n",
    "$$ \\mathcal{B} = \\left\\{\\begin{bmatrix}1\\\\0\\end{bmatrix}, \\begin{bmatrix}1\\\\2\\end{bmatrix}\\right\\} $$"
   ]
  },
  {
   "cell_type": "markdown",
   "metadata": {
    "slideshow": {
     "slide_type": "fragment"
    }
   },
   "source": [
    "Notice that the __location__ of $\\mathbf{x}$ relative to the origin does not change.  \n",
    "\n",
    "However, using the $\\mathcal{B}$-basis, it has __different coordinates__.\n",
    "\n",
    "The new coordinates are $[\\mathbf{x}]_\\mathcal{B} = \\begin{bmatrix}-2\\\\3\\end{bmatrix}$."
   ]
  },
  {
   "cell_type": "code",
   "execution_count": 6,
   "metadata": {
    "hide_input": true,
    "slideshow": {
     "slide_type": "skip"
    },
    "tags": [
     "remove-cell"
    ]
   },
   "outputs": [],
   "source": [
    "# Mar 2021: docs say this code should work, a much cleaner way to do the above\n",
    "# however cannot get ipywidgets 8.0.0 to cleanly install at present\n",
    "# when it is a clean install, convert to this approach\n",
    "#button = widgets.Button(description='Click here')\n",
    "#slider = widgets.IntSlider()\n",
    "#stacked = widgets.Stacked([button, slider])\n",
    "#display(stacked)  # will show only the button\n",
    "#dropdown = widgets.Dropdown(options=['button', 'slider'])\n",
    "#widgets.jslink((dropdown, 'index'), (stacked, 'selected_index'))\n",
    "#widgets.VBox([dropdown, stacked])"
   ]
  },
  {
   "cell_type": "markdown",
   "metadata": {
    "slideshow": {
     "slide_type": "slide"
    }
   },
   "source": [
    "### Finding the Coordinates of a Point in a Basis.\n",
    "\n",
    "OK.  Now, let's say we are given a particular basis.  How do we find the coordinates of a point in that basis?"
   ]
  },
  {
   "cell_type": "markdown",
   "metadata": {
    "slideshow": {
     "slide_type": "fragment"
    }
   },
   "source": [
    "Let's consider a specific example.\n",
    "\n",
    "Let $\\mathbf{v}_1 = \\begin{bmatrix}3\\\\6\\\\2\\end{bmatrix}, \\mathbf{v}_2 = \\begin{bmatrix}-1\\\\0\\\\1\\end{bmatrix}, \\mathbf{x} = \\begin{bmatrix}3\\\\12\\\\7\\end{bmatrix},$ and $\\mathcal{B} = \\{\\mathbf{v}_1,\\mathbf{v}_2\\}.$\n",
    "\n",
    "Then $\\mathcal{B}$ is a basis for $H$ = Span$\\{\\mathbf{v}_1,\\mathbf{v}_2\\}$ because $\\mathbf{v}_1$ and $\\mathbf{v}_2$ are linearly independent."
   ]
  },
  {
   "cell_type": "markdown",
   "metadata": {
    "slideshow": {
     "slide_type": "fragment"
    }
   },
   "source": [
    "__Problem:__ Determine if $\\mathbf{x}$ is in $H$, and if it is, find the coordinate vector of $\\mathbf{x}$ relative to $\\mathcal{B}.$"
   ]
  },
  {
   "cell_type": "markdown",
   "metadata": {
    "slideshow": {
     "slide_type": "fragment"
    }
   },
   "source": [
    "__Solution.__  If $\\mathbf{x}$ is in $H,$ then the following vector equation is consistent:\n",
    "\n",
    "$$c_1\\begin{bmatrix}3\\\\6\\\\2\\end{bmatrix} + c_2\\begin{bmatrix}-1\\\\0\\\\1\\end{bmatrix} = \\begin{bmatrix}3\\\\12\\\\7\\end{bmatrix}.$$"
   ]
  },
  {
   "cell_type": "markdown",
   "metadata": {
    "slideshow": {
     "slide_type": "fragment"
    }
   },
   "source": [
    "The scalars $c_1$ and $c_2,$ if they exist, are the $\\mathcal{B}$-coordinates of $\\mathbf{x}.$  "
   ]
  },
  {
   "cell_type": "markdown",
   "metadata": {
    "slideshow": {
     "slide_type": "fragment"
    }
   },
   "source": [
    "Row operations show that\n",
    "\n",
    "$$\\begin{bmatrix}3&-1&3\\\\6&0&12\\\\2&1&7\\end{bmatrix} \\sim \\begin{bmatrix}1&0&2\\\\0&1&3\\\\0&0&0\\end{bmatrix}.$$"
   ]
  },
  {
   "cell_type": "markdown",
   "metadata": {
    "hide_input": false,
    "slideshow": {
     "slide_type": "fragment"
    }
   },
   "source": [
    "The reduced row echelon form shows that the system is consistent, so $\\mathbf{x}$ is in $H$.\n",
    "\n",
    "Furthermore, it shows that $c_1 = 2$ and $c_2 = 3,$ \n",
    "\n",
    "so $[\\mathbf{x}]_\\mathcal{B} = \\begin{bmatrix}2\\\\3\\end{bmatrix}.$  "
   ]
  },
  {
   "cell_type": "markdown",
   "metadata": {
    "hide_input": false,
    "slideshow": {
     "slide_type": "fragment"
    }
   },
   "source": [
    "In this example, the basis $\\mathcal{B}$ determines a coordinate system on $H$, which can be visualized like this:"
   ]
  },
  {
   "cell_type": "code",
   "execution_count": 7,
   "metadata": {
    "hide_input": false,
    "tags": [
     "remove-input"
    ]
   },
   "outputs": [
    {
     "ename": "NameError",
     "evalue": "name 'ut' is not defined",
     "output_type": "error",
     "traceback": [
      "\u001b[0;31m---------------------------------------------------------------------------\u001b[0m",
      "\u001b[0;31mNameError\u001b[0m                                 Traceback (most recent call last)",
      "\u001b[0;32m<ipython-input-7-64acb6f6468a>\u001b[0m in \u001b[0;36m<module>\u001b[0;34m\u001b[0m\n\u001b[0;32m----> 1\u001b[0;31m fig = ut.three_d_figure((15, 2), fig_desc = 'Basis-B coordinate system on the subspace H', figsize = (8, 8),\n\u001b[0m\u001b[1;32m      2\u001b[0m                         xmin = -1, xmax = 10, ymin = -1, ymax = 10, zmin = -1, zmax = 14, qr = qr_setting)\n\u001b[1;32m      3\u001b[0m \u001b[0mv\u001b[0m \u001b[0;34m=\u001b[0m \u001b[0;34m[\u001b[0m\u001b[0;36m3.0\u001b[0m\u001b[0;34m,\u001b[0m \u001b[0;36m6\u001b[0m\u001b[0;34m,\u001b[0m \u001b[0;36m2\u001b[0m\u001b[0;34m]\u001b[0m\u001b[0;34m\u001b[0m\u001b[0;34m\u001b[0m\u001b[0m\n\u001b[1;32m      4\u001b[0m \u001b[0mu\u001b[0m \u001b[0;34m=\u001b[0m \u001b[0;34m[\u001b[0m\u001b[0;34m-\u001b[0m\u001b[0;36m1\u001b[0m\u001b[0;34m,\u001b[0m  \u001b[0;36m0\u001b[0m\u001b[0;34m,\u001b[0m \u001b[0;36m1\u001b[0m\u001b[0;34m]\u001b[0m\u001b[0;34m\u001b[0m\u001b[0;34m\u001b[0m\u001b[0m\n\u001b[1;32m      5\u001b[0m \u001b[0;31m#\u001b[0m\u001b[0;34m\u001b[0m\u001b[0;34m\u001b[0m\u001b[0;34m\u001b[0m\u001b[0m\n",
      "\u001b[0;31mNameError\u001b[0m: name 'ut' is not defined"
     ]
    }
   ],
   "source": [
    "fig = ut.three_d_figure((15, 2), fig_desc = 'Basis-B coordinate system on the subspace H', figsize = (8, 8),\n",
    "                        xmin = -1, xmax = 10, ymin = -1, ymax = 10, zmin = -1, zmax = 14, qr = qr_setting)\n",
    "v = [3.0, 6, 2]\n",
    "u = [-1,  0, 1]\n",
    "#\n",
    "v = np.array([2, 0.5, 0.5])\n",
    "u = np.array([1.,  2,   1])\n",
    "fig.text(v[0], v[1]-0.75, v[2]-2, r'$\\bf v_1$', 'v1', size=16)\n",
    "fig.text(u[0]-0.5, u[1], u[2]+2, r'$\\bf v_2$', 'v2', size=16)\n",
    "fig.text(3*u[0]+2*v[0], 3*u[1]+2*v[1], 3*u[2]+2*v[2]+1, r'$\\bf 2v_1+3v_2$', '2 v1 + 3 v2', size=16)\n",
    "# plotting the span of v\n",
    "fig.plotSpan(u, v, 'Green')\n",
    "# blue grid lines\n",
    "fig.plotPoint(0, 0, 0, 'y')\n",
    "fig.plotPoint(u[0], u[1], u[2], 'b')\n",
    "fig.plotPoint(2*u[0], 2*u[1], 2*u[2],'b')\n",
    "fig.plotPoint(3*u[0], 3*u[1], 3*u[2], 'b')\n",
    "fig.plotLine([[0, 0, 0], 4*u], color='b')\n",
    "fig.plotLine([v, v+4*u], color='b')\n",
    "fig.plotLine([2*v, 2*v+3*u], color='b')\n",
    "fig.plotLine([3*v, 3*v+2.5*u], color='b')\n",
    "# red grid lines\n",
    "fig.plotPoint(v[0], v[1], v[2], 'r')\n",
    "fig.plotPoint(2*v[0], 2*v[1], 2*v[2], 'r')\n",
    "fig.plotPoint(3*v[0], 3*v[1], 3*v[2], 'r')\n",
    "fig.plotLine([[0, 0, 0], 3.5*v], color='r')\n",
    "fig.plotLine([u, u+3.5*v], color='r')\n",
    "fig.plotLine([2*u, 2*u+3.5*v], color='r')\n",
    "fig.plotLine([3*u, 3*u+2*v], color='r')\n",
    "#\n",
    "fig.plotPoint(3*u[0]+2*v[0], 3*u[1]+2*v[1], 3*u[2]+2*v[2], color='m')\n",
    "# plotting the axes\n",
    "fig.plotIntersection([0,0,1,0], [0,1,0,0], color='Black')\n",
    "fig.plotIntersection([0,0,1,0], [1,0,0,0], color='Black')\n",
    "fig.plotIntersection([0,1,0,0], [1,0,0,0], color='Black')\n",
    "fig.set_title('Basis-B coordinate system on the subspace H', size=16)\n",
    "fig.save()"
   ]
  },
  {
   "cell_type": "markdown",
   "metadata": {
    "hide_input": true,
    "slideshow": {
     "slide_type": "fragment"
    }
   },
   "source": [
    "__Important:__ Don't be confused by the fact that the \"coordinate axes\" are not purpendicular.   \n",
    "\n",
    "The whole idea here is that __they don't need to be.__\n",
    "\n",
    "As long as the independent vectors span the space, there is only __one__ way to express any point in terms of them.\n",
    "\n",
    "Thus, every point has a unique coordinate."
   ]
  },
  {
   "cell_type": "markdown",
   "metadata": {
    "slideshow": {
     "slide_type": "fragment"
    }
   },
   "source": [
    "### Isomorphism.\n",
    "\n",
    "Another important idea is that, although points in $H$ are in $\\mathbb{R}^3$, they are completely determined by their coordinate vectors, which belong to $\\mathbb{R}^2.$"
   ]
  },
  {
   "cell_type": "markdown",
   "metadata": {
    "slideshow": {
     "slide_type": "fragment"
    }
   },
   "source": [
    "The grid in the figure above makes $H$ \"look like\" $\\mathbb{R}^2.$"
   ]
  },
  {
   "cell_type": "markdown",
   "metadata": {
    "slideshow": {
     "slide_type": "fragment"
    }
   },
   "source": [
    "The correspondence $\\mathbf{x} \\mapsto [\\mathbf{x}]_\\mathcal{B}$ is one-to-one correspondence between $H$ and $\\mathbb{R}^2$ that preserves linear combinations.\n",
    "\n",
    "In our example, $\\begin{bmatrix}3\\\\12\\\\7\\end{bmatrix}\\mapsto\\begin{bmatrix}2\\\\3\\end{bmatrix}$."
   ]
  },
  {
   "cell_type": "markdown",
   "metadata": {
    "slideshow": {
     "slide_type": "fragment"
    }
   },
   "source": [
    "When we have a one-to-one correspondence between two subspaces that preserves linear combinations, we call such a correspondence an _isomorphism,_ and we say that $H$ is _isomorphic_ to $\\mathbb{R}^2.$"
   ]
  },
  {
   "cell_type": "markdown",
   "metadata": {
    "slideshow": {
     "slide_type": "fragment"
    }
   },
   "source": [
    "In general, if $\\mathcal{B}\\ = \\{\\mathbf{b}_1,\\dots,\\mathbf{b}_p\\}$ is a basis for $H$, then the mapping $\\mathbf{x} \\mapsto [\\mathbf{x}]_\\mathcal{B}$ is a one-to-one correspondence that makes $H$ look and act the same as $\\mathbb{R}^p.$   \n",
    "\n",
    "This is _even through the vectors in $H$ themselves may have more than $p$ entries._"
   ]
  },
  {
   "cell_type": "markdown",
   "metadata": {
    "slideshow": {
     "slide_type": "slide"
    }
   },
   "source": [
    "## The Dimension of a Subspace"
   ]
  },
  {
   "cell_type": "markdown",
   "metadata": {
    "slideshow": {
     "slide_type": "fragment"
    }
   },
   "source": [
    "It can be shown that if a subspace $H$ has a basis of $p$ vectors, then every basis of $H$ must consist of exactly $p$ vectors.   \n",
    "\n",
    "That is, for a given $H$, the number $p$ is a special number.\n",
    "\n",
    "Thus we can make this definition:"
   ]
  },
  {
   "cell_type": "markdown",
   "metadata": {
    "slideshow": {
     "slide_type": "fragment"
    }
   },
   "source": [
    "__Definition.__ The _dimension_ of a nonzero subspace $H,$ denoted by $\\dim H,$ is the number of vectors in any basis for $H.$  \n",
    "\n",
    "The dimension of the zero subspace $\\{{\\bf 0}\\}$ is defined to be zero."
   ]
  },
  {
   "cell_type": "markdown",
   "metadata": {
    "slideshow": {
     "slide_type": "fragment"
    }
   },
   "source": [
    "So now we can say __with precision__ things we've previous said informally.   \n",
    "\n",
    "For example, a plane through ${\\bf 0}$ is two-dimensional, and a line through ${\\bf 0}$ is one-dimensional."
   ]
  },
  {
   "cell_type": "markdown",
   "metadata": {
    "slideshow": {
     "slide_type": "fragment"
    }
   },
   "source": [
    "__Question:__ What is the dimension of a line not through the origin?"
   ]
  },
  {
   "cell_type": "markdown",
   "metadata": {
    "slideshow": {
     "slide_type": "fragment"
    }
   },
   "source": [
    "__Answer:__ It is undefined, because a line not through the the origin is not a subspace, so cannot have a basis, so does not have a dimension."
   ]
  },
  {
   "cell_type": "markdown",
   "metadata": {
    "slideshow": {
     "slide_type": "fragment"
    }
   },
   "source": [
    "### Dimension of the Null Space\n",
    "\n",
    "At the end of the last lecture we looked at this matrix:\n",
    "\n",
    "$$A = \\begin{bmatrix}-3&6&-1&1&-7\\\\1&-2&2&3&-1\\\\2&-4&5&8&-4\\end{bmatrix}$$\n",
    "\n",
    "We determined that it had a basis consisting of 3 vectors.  \n",
    "\n",
    "So the dimension of $A$'s null space (ie, $\\dim\\operatorname{Nul} A$) is 3."
   ]
  },
  {
   "cell_type": "markdown",
   "metadata": {
    "slideshow": {
     "slide_type": "fragment"
    }
   },
   "source": [
    "Remember that we constructed an explicit description of the null space of this matrix, as:\n",
    "\n",
    "$$ = \n",
    "x_2\\begin{bmatrix}2\\\\1\\\\0\\\\0\\\\0\\end{bmatrix}+x_4\\begin{bmatrix}1\\\\0\\\\-2\\\\1\\\\0\\end{bmatrix}+x_5\\begin{bmatrix}-3\\\\0\\\\2\\\\0\\\\1\\end{bmatrix} $$\n",
    "\n",
    "Each basis vector corresponds to a free variable in the equation $A\\mathbf{x} = {\\bf 0}.$   \n",
    "\n",
    "So, to find the dimension of $\\operatorname{Nul}\\ A,$ simply identify and count the number of free variables in $A\\mathbf{x} = {\\bf 0}.$ "
   ]
  },
  {
   "cell_type": "markdown",
   "metadata": {
    "slideshow": {
     "slide_type": "skip"
    }
   },
   "source": [
    "``` {toggle}\n",
    "Question Time!  Q15.1\n",
    "```"
   ]
  },
  {
   "cell_type": "markdown",
   "metadata": {
    "slideshow": {
     "slide_type": "slide"
    }
   },
   "source": [
    "### Matrix Rank\n",
    "\n",
    "__Definition.__  The __rank__ of a matrix, denoted by $\\operatorname{Rank} A,$ is the __dimension of the column space__ of $A$."
   ]
  },
  {
   "cell_type": "markdown",
   "metadata": {
    "slideshow": {
     "slide_type": "fragment"
    }
   },
   "source": [
    "Since the pivot columns of $A$ form a basis for $\\operatorname{Col} A,$ the rank of $A$ is just the number of pivot columns in $A$."
   ]
  },
  {
   "cell_type": "markdown",
   "metadata": {
    "slideshow": {
     "slide_type": "fragment"
    }
   },
   "source": [
    "__Example.__  Determine the rank of the matrix\n",
    "\n",
    "$$A = \\begin{bmatrix}2&5&-3&-4&8\\\\4&7&-4&-3&9\\\\6&9&-5&2&4\\\\0&-9&6&5&-6\\end{bmatrix}.$$"
   ]
  },
  {
   "cell_type": "markdown",
   "metadata": {
    "slideshow": {
     "slide_type": "fragment"
    }
   },
   "source": [
    "__Solution__ Reduce $A$ to an echelon form:\n",
    "\n",
    "$$A = \\begin{bmatrix}2&5&-3&-4&8\\\\0&-3&2&5&-7\\\\0&-6&4&14&-20\\\\0&-9&6&5&-6\\end{bmatrix}\\sim\\cdots\\sim\\begin{bmatrix}2&5&-3&-4&8\\\\0&-3&2&5&-7\\\\0&0&0&4&-6\\\\0&0&0&0&0\\end{bmatrix}.$$\n",
    "\n",
    "The matrix $A$ has 3 pivot columns, so $\\operatorname{Rank} A = 3.$"
   ]
  },
  {
   "cell_type": "markdown",
   "metadata": {
    "slideshow": {
     "slide_type": "skip"
    }
   },
   "source": [
    "```{toggle}\n",
    "Question Time! Q15.2\n",
    "```"
   ]
  },
  {
   "cell_type": "markdown",
   "metadata": {
    "slideshow": {
     "slide_type": "slide"
    }
   },
   "source": [
    "## The Rank Theorem"
   ]
  },
  {
   "cell_type": "markdown",
   "metadata": {
    "slideshow": {
     "slide_type": "fragment"
    }
   },
   "source": [
    "Consider a matrix $A.$\n",
    "\n",
    "In the last lecture we showed the following: one can construct a basis for $\\operatorname{Nul}\\ A$ using the columns corresponding to free variables in the solution of $A\\mathbf{x} = {\\bf 0}.$   "
   ]
  },
  {
   "cell_type": "markdown",
   "metadata": {
    "slideshow": {
     "slide_type": "fragment"
    }
   },
   "source": [
    "This shows that $\\dim\\operatorname{Nul}\\ A$ = the number of free variables in $A\\mathbf{x} = {\\bf 0},$  \n",
    "\n",
    "which is the number of non-pivot columns in $A$."
   ]
  },
  {
   "cell_type": "markdown",
   "metadata": {
    "slideshow": {
     "slide_type": "fragment"
    }
   },
   "source": [
    "We also saw that the number of columns in any basis for $\\operatorname{Col}\\ A$ is the number of pivot columns."
   ]
  },
  {
   "cell_type": "markdown",
   "metadata": {
    "slideshow": {
     "slide_type": "fragment"
    }
   },
   "source": [
    "So we can now make this important connection:\n",
    "\n",
    "$$\\begin{array}{rcl}\n",
    "\\dim\\operatorname{Nul}\\ A + \\dim\\operatorname{Col}\\ A &= &\\mbox{number of non-pivot columns of $A$ + number of pivot columns of $A$}\\\\\n",
    "&= &\\mbox{number of columns of $A$}.\n",
    "\\end{array}$$"
   ]
  },
  {
   "cell_type": "markdown",
   "metadata": {
    "slideshow": {
     "slide_type": "slide"
    }
   },
   "source": [
    "\n",
    "\n",
    "This leads to the following theorem:\n",
    "\n",
    "__Theorem.__ If a matrix $A$ has $n$ columns, then $\\operatorname{Rank} A + \\dim\\operatorname{Nul}\\ A = n$."
   ]
  },
  {
   "cell_type": "markdown",
   "metadata": {
    "slideshow": {
     "slide_type": "fragment"
    }
   },
   "source": [
    "This is a terrifically important fact!  \n",
    "\n",
    "Here is an intuitive way to understand it.   Let's think about a matrix $A$ and the associated linear transformation $T(x) = Ax$."
   ]
  },
  {
   "cell_type": "markdown",
   "metadata": {
    "slideshow": {
     "slide_type": "fragment"
    }
   },
   "source": [
    "If the matrix $A$ has $n$ columns, then $A$'s column space _could_ have dimension as high as $n$.   \n",
    "\n",
    "In other words, $T$'s range _could_ have dimension as high as $n$."
   ]
  },
  {
   "cell_type": "markdown",
   "metadata": {
    "slideshow": {
     "slide_type": "fragment"
    }
   },
   "source": [
    "_However,_ if $A$ \"throws away\" a nullspace of dimension $p$, then that _reduces_ the columnspace of $A$ to $n-p$.\n",
    "\n",
    "Meaning, the dimension of $T$'s range is reduced to $n-p$."
   ]
  },
  {
   "cell_type": "markdown",
   "metadata": {
    "slideshow": {
     "slide_type": "skip"
    }
   },
   "source": [
    "``` {toggle}\n",
    "Question Time!  Q15.3\n",
    "```"
   ]
  },
  {
   "cell_type": "markdown",
   "metadata": {
    "slideshow": {
     "slide_type": "slide"
    }
   },
   "source": [
    "### Extending the Invertible Matrix Theorem\n",
    "\n",
    "The above arguments show that when $A$ has $n$ columns, then the \"larger\" that the column space is, the \"smaller\" that the null space is.  \n",
    "\n",
    "(Where \"larger\" means \"has more dimensions.\")"
   ]
  },
  {
   "cell_type": "markdown",
   "metadata": {
    "slideshow": {
     "slide_type": "fragment"
    }
   },
   "source": [
    "This is particularly important when $A$ is square $(n\\times n)$.\n",
    "\n",
    "Let's consider the extreme, in which the column space of $A$ has maximum dimension -- i.e., $\\dim\\operatorname{Col}\\ A= n.$"
   ]
  },
  {
   "cell_type": "markdown",
   "metadata": {
    "slideshow": {
     "slide_type": "fragment"
    }
   },
   "source": [
    "Recall that the IMT said that an $n\\times n$ matrix is invertible if and only if its columns are linearly independent,  and if and only if its columns span $\\mathbb{R}^n.$"
   ]
  },
  {
   "cell_type": "markdown",
   "metadata": {
    "slideshow": {
     "slide_type": "fragment"
    }
   },
   "source": [
    "Hence we now can see that an $n\\times n$ matrix is invertible if and only if the columns of $A$ form a basis for $\\mathbb{R}^n.$"
   ]
  },
  {
   "cell_type": "markdown",
   "metadata": {
    "slideshow": {
     "slide_type": "fragment"
    }
   },
   "source": [
    "This leads to the following facts, which further extend the IMT:"
   ]
  },
  {
   "cell_type": "markdown",
   "metadata": {
    "slideshow": {
     "slide_type": "fragment"
    }
   },
   "source": [
    "Let $A$ be an $n\\times n$ matrix.  Then the following statements are each equivalent to the statement that $A$ is an invertible matrix:\n",
    "\n",
    "1. The columns of $A$ form a basis for $\\mathbb{R}^n.$\n",
    "2. $\\operatorname{Col} A = \\mathbb{R}^n.$\n",
    "3. $\\dim\\operatorname{Col} A = n.$\n",
    "4. $\\operatorname{Rank} A = n.$\n",
    "5. $\\operatorname{Nul} A = \\{{\\bf 0}\\}.$\n",
    "6. $\\dim\\operatorname{Nul} A = 0.$"
   ]
  }
 ],
 "metadata": {
  "celltoolbar": "Slideshow",
  "kernelspec": {
   "display_name": "Python 3",
   "language": "python",
   "name": "python3"
  },
  "language_info": {
   "codemirror_mode": {
    "name": "ipython",
    "version": 3
   },
   "file_extension": ".py",
   "mimetype": "text/x-python",
   "name": "python",
   "nbconvert_exporter": "python",
   "pygments_lexer": "ipython3",
   "version": "3.8.6"
  }
 },
 "nbformat": 4,
 "nbformat_minor": 4
}
